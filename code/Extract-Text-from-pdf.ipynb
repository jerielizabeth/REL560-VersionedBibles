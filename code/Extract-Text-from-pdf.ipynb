{
 "cells": [
  {
   "cell_type": "code",
   "execution_count": 1,
   "id": "cde6bf84",
   "metadata": {},
   "outputs": [],
   "source": [
    "import os\n",
    "from os.path import isfile, join\n",
    "import PyPDF2"
   ]
  },
  {
   "cell_type": "code",
   "execution_count": 2,
   "id": "866ca0d7",
   "metadata": {},
   "outputs": [],
   "source": [
    "pdf_dir = \"../Bibles-pdf/\"\n",
    "text_dir = \"../data/Bibles-txt/\""
   ]
  },
  {
   "cell_type": "code",
   "execution_count": 3,
   "id": "c9a1fce8",
   "metadata": {},
   "outputs": [
    {
     "name": "stdout",
     "output_type": "stream",
     "text": [
      "['ERV-1885.pdf', 'ASV-1901.pdf', 'ASV-1900.pdf', 'ERV-1881.pdf']\n"
     ]
    }
   ],
   "source": [
    "#Version for No Sub Folders\n",
    "sub_folders = [\"LibM\"]\n",
    "corpus = [f for f in os.listdir(pdf_dir) if not f.startswith('.') and isfile(join(pdf_dir, f))]\n",
    "print (corpus)\n",
    "\n",
    "#Version for Sub Folders\n",
    "#sub_folders = [LibM]\n",
    "#all_corpora = []\n",
    "#for folder in sub_folders:\n",
    "#    corpus = [f for f in os.listdir(pdf_dir + folder) if not f.startswith('.') and isfile(join(pdf_dir + folder, f))]\n",
    "#    all_corpora.append(corpus)\n",
    "#print (all_copora)"
   ]
  },
  {
   "cell_type": "code",
   "execution_count": 6,
   "id": "7f953c68",
   "metadata": {},
   "outputs": [],
   "source": [
    "#No Sub Folders\n",
    "for filename in corpus:\n",
    "    pdf = open (join(pdf_dir, filename), \"rb\")\n",
    "    pdfReader = PyPDF2.PdfFileReader(pdf)\n",
    "    \n",
    "    for page in range(0, pdfReader.numPages):\n",
    "        pageObject = pdfReader.getPage(page)\n",
    "        text = pageObject.extractText()\n",
    "        \n",
    "        \n",
    "#       1 File Per Document        \n",
    "        with open(join(text_dir, filename[:-4]+ \".txt\"), mode='a', encoding=\"utf-8\") as o:\n",
    "            o.write(text)\n",
    "        \n",
    "#       1 File Per Page\n",
    "#       page_name = \"{}-page-{}.txt\".format(filename[:-4], page+1)\n",
    "#       with open(join(text_dir, page_name), mode='w', encoding=\"utf-8\") as o:\n",
    "#       o.write(text)\n",
    "        \n",
    "\n",
    "#Sub Folders\n",
    "#for filename in all_corpora.items():\n",
    "    #for filename in corpus:\n",
    "    "
   ]
  },
  {
   "cell_type": "code",
   "execution_count": null,
   "id": "87624bf1",
   "metadata": {},
   "outputs": [],
   "source": []
  }
 ],
 "metadata": {
  "kernelspec": {
   "display_name": "Python [conda env:REL560] *",
   "language": "python",
   "name": "conda-env-REL560-py"
  },
  "language_info": {
   "codemirror_mode": {
    "name": "ipython",
    "version": 3
   },
   "file_extension": ".py",
   "mimetype": "text/x-python",
   "name": "python",
   "nbconvert_exporter": "python",
   "pygments_lexer": "ipython3",
   "version": "3.9.7"
  }
 },
 "nbformat": 4,
 "nbformat_minor": 5
}
